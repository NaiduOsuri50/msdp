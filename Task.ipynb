{
 "cells": [
  {
   "cell_type": "code",
   "execution_count": 1,
   "metadata": {},
   "outputs": [
    {
     "ename": "NameError",
     "evalue": "name 'num' is not defined",
     "output_type": "error",
     "traceback": [
      "\u001b[1;31m---------------------------------------------------------------------------\u001b[0m",
      "\u001b[1;31mNameError\u001b[0m                                 Traceback (most recent call last)",
      "\u001b[1;32m<ipython-input-1-6317e441d3b5>\u001b[0m in \u001b[0;36m<module>\u001b[1;34m\u001b[0m\n\u001b[0;32m      1\u001b[0m \u001b[1;31m### write a prigram to find the factorail of the given number\u001b[0m\u001b[1;33m\u001b[0m\u001b[1;33m\u001b[0m\u001b[1;33m\u001b[0m\u001b[0m\n\u001b[0;32m      2\u001b[0m \u001b[1;33m\u001b[0m\u001b[0m\n\u001b[1;32m----> 3\u001b[1;33m \u001b[1;32mif\u001b[0m \u001b[0mnum\u001b[0m \u001b[1;33m<\u001b[0m \u001b[1;36m0\u001b[0m\u001b[1;33m:\u001b[0m\u001b[1;33m\u001b[0m\u001b[1;33m\u001b[0m\u001b[0m\n\u001b[0m\u001b[0;32m      4\u001b[0m    \u001b[0mprint\u001b[0m\u001b[1;33m(\u001b[0m\u001b[1;34m\"Sorry, factorial does not exist for negative numbers\"\u001b[0m\u001b[1;33m)\u001b[0m\u001b[1;33m\u001b[0m\u001b[1;33m\u001b[0m\u001b[0m\n\u001b[0;32m      5\u001b[0m \u001b[1;32melif\u001b[0m \u001b[0mnum\u001b[0m \u001b[1;33m==\u001b[0m \u001b[1;36m0\u001b[0m\u001b[1;33m:\u001b[0m\u001b[1;33m\u001b[0m\u001b[1;33m\u001b[0m\u001b[0m\n",
      "\u001b[1;31mNameError\u001b[0m: name 'num' is not defined"
     ]
    }
   ],
   "source": [
    "### write a program to find the factorail of the given number\n",
    "\n",
    "if num < 0:\n",
    "   print(\"Sorry, factorial does not exist for negative numbers\")\n",
    "elif num == 0:\n",
    "   print(\"The factorial of 0 is 1\")\n",
    "else:\n",
    "   for i in range(1,num + 1):\n",
    "       factorial = factorial*i\n",
    "   print(\"The factorial of\",num,\"is\",factorial)"
   ]
  },
  {
   "cell_type": "code",
   "execution_count": 3,
   "metadata": {},
   "outputs": [
    {
     "name": "stdout",
     "output_type": "stream",
     "text": [
      "Please Enter any Number: 550\n",
      "\n",
      " Number of Digits in a Given Number = 3\n"
     ]
    }
   ],
   "source": [
    "### check the number of digitd in a given number.\n",
    "Number = int(input(\"Please Enter any Number: \"))\n",
    "Count = 0\n",
    "while(Number > 0):\n",
    "    Number = Number // 10\n",
    "    Count = Count + 1\n",
    "\n",
    "print(\"\\n Number of Digits in a Given Number = %d\" %Count)"
   ]
  },
  {
   "cell_type": "code",
   "execution_count": 4,
   "metadata": {},
   "outputs": [
    {
     "name": "stdout",
     "output_type": "stream",
     "text": [
      "20\n",
      "is factor of 1000\n"
     ]
    }
   ],
   "source": [
    "### check if the given number is a factor of 1000\n",
    "num=int(input())\n",
    "if(1000%num==0):\n",
    "    print(\"is factor of 1000\")\n",
    "else:\n",
    "    print(\"is factor of 1000\")    "
   ]
  },
  {
   "cell_type": "code",
   "execution_count": null,
   "metadata": {},
   "outputs": [],
   "source": [
    "#### check the two strings using same characters or not\n",
    "a=input(\"enter a string\")"
   ]
  },
  {
   "cell_type": "code",
   "execution_count": 5,
   "metadata": {},
   "outputs": [
    {
     "name": "stdout",
     "output_type": "stream",
     "text": [
      "Enter any number : 12\n",
      "The given number is NOT a palindrome\n"
     ]
    }
   ],
   "source": [
    "### palindrome or not\n",
    "num = input('Enter any number : ')\n",
    "try:\n",
    "    val = int(num)\n",
    "    if num == str(num)[::-1]:\n",
    "        print('The given number is PALINDROME')\n",
    "    else:\n",
    "        print('The given number is NOT a palindrome')\n",
    "except ValueError:\n",
    "    print(\"That's not a valid number, Try Again !\")"
   ]
  },
  {
   "cell_type": "code",
   "execution_count": 6,
   "metadata": {},
   "outputs": [
    {
     "name": "stdout",
     "output_type": "stream",
     "text": [
      "Enter the number: 25\n",
      "2\n",
      "3\n",
      "5\n",
      "7\n",
      "11\n",
      "13\n",
      "17\n",
      "19\n",
      "23\n"
     ]
    }
   ],
   "source": [
    "### prime numbers up to N\n",
    "S_value = 1\n",
    "n  = int(input(\"Enter the number: \"))\n",
    "for num in range(S_value, n + 1):   \n",
    "    if num > 1:\n",
    "        for i in range(2, int(num/2)+1):\n",
    "            if (num % i) == 0:\n",
    "                break\n",
    "        else:\n",
    "            print(num)\n"
   ]
  },
  {
   "cell_type": "code",
   "execution_count": 13,
   "metadata": {},
   "outputs": [
    {
     "name": "stdout",
     "output_type": "stream",
     "text": [
      "1401601499\n",
      "is divisible\n"
     ]
    }
   ],
   "source": [
    "## The ISBN value must be 10 digit code.\n",
    "##The ISBN is valid if :1*digit1+2*digit2+3*digit3+4*digit4+5*digit5+6*digit6+7*digit7+8*digit8+9*digit9+10*digit10 \n",
    "##is divisible by 11\n",
    "num=int(input())\n",
    "i=10\n",
    "sum=0\n",
    "while(num!=0):\n",
    "    r=num%10\n",
    "    sum=sum+(i*r)\n",
    "    num=num//10\n",
    "    i=i-1\n",
    "if(sum%11==0):\n",
    "    print(\"is divisible\")\n",
    "else:\n",
    "    print(\"not divisible\")\n"
   ]
  },
  {
   "cell_type": "code",
   "execution_count": 10,
   "metadata": {},
   "outputs": [
    {
     "name": "stdout",
     "output_type": "stream",
     "text": [
      "enter a string:naidu osuri\n"
     ]
    },
    {
     "data": {
      "text/plain": [
       "'NAIDU OSURI'"
      ]
     },
     "execution_count": 10,
     "metadata": {},
     "output_type": "execute_result"
    }
   ],
   "source": [
    "### need to change the case of each alphabet in string\n",
    "\n",
    "string=input(\"enter a string:\")\n",
    "c=string.swapcase()\n",
    "c"
   ]
  },
  {
   "cell_type": "code",
   "execution_count": 12,
   "metadata": {},
   "outputs": [
    {
     "name": "stdout",
     "output_type": "stream",
     "text": [
      "enter a string:ok\n",
      "enter a string:ok\n",
      "its a identical\n"
     ]
    }
   ],
   "source": [
    "##### identical the strings or not?\n",
    "\n",
    "a=input(\"enter a string:\")\n",
    "b=input(\"enter a string:\")\n",
    "if a==b:\n",
    "    print(\"its a identical\")\n",
    "else:\n",
    "    print(\"its a identical\")\n"
   ]
  },
  {
   "cell_type": "code",
   "execution_count": 2,
   "metadata": {},
   "outputs": [
    {
     "data": {
      "text/plain": [
       "'opopopopop'"
      ]
     },
     "execution_count": 2,
     "metadata": {},
     "output_type": "execute_result"
    }
   ],
   "source": [
    "## change the strings to lower case\n",
    "a=\"OPOPOPOPOP\"\n",
    "a=a.lower()\n",
    "a"
   ]
  },
  {
   "cell_type": "code",
   "execution_count": 4,
   "metadata": {},
   "outputs": [
    {
     "data": {
      "text/plain": [
       "10"
      ]
     },
     "execution_count": 4,
     "metadata": {},
     "output_type": "execute_result"
    }
   ],
   "source": [
    "### length of the string\n",
    "a=\"OPOPOPOPOP\"\n",
    "len(a)\n"
   ]
  },
  {
   "cell_type": "code",
   "execution_count": 6,
   "metadata": {},
   "outputs": [
    {
     "data": {
      "text/plain": [
       "'gnirts eht fo htgnel'"
      ]
     },
     "execution_count": 6,
     "metadata": {},
     "output_type": "execute_result"
    }
   ],
   "source": [
    "### print string in reverse order\n",
    "a=\"length of the string\"\n",
    "a[::-1]\n"
   ]
  },
  {
   "cell_type": "code",
   "execution_count": 12,
   "metadata": {},
   "outputs": [
    {
     "data": {
      "text/plain": [
       "9"
      ]
     },
     "execution_count": 12,
     "metadata": {},
     "output_type": "execute_result"
    }
   ],
   "source": [
    "#### find how many times s is repeated in a given string\n",
    "a=\"sheiksheiksikhjhssssmcebweuss\"\n",
    "a.count('s')\n"
   ]
  },
  {
   "cell_type": "code",
   "execution_count": 13,
   "metadata": {},
   "outputs": [
    {
     "data": {
      "text/plain": [
       "2"
      ]
     },
     "execution_count": 13,
     "metadata": {},
     "output_type": "execute_result"
    }
   ],
   "source": [
    "### how many types python repeated\n",
    "a=\"python programming by python platform\"\n",
    "a.count('python')\n"
   ]
  },
  {
   "cell_type": "code",
   "execution_count": 14,
   "metadata": {},
   "outputs": [],
   "source": [
    "## E-maze in x and y axises need to take input like LLRDDR(strings)\n"
   ]
  },
  {
   "cell_type": "code",
   "execution_count": null,
   "metadata": {},
   "outputs": [],
   "source": [
    "## 2+3 ----- input\n",
    "## 5 ----- output\n",
    "## 3-2 ----- input\n",
    "## 1 ----- output\n",
    "## 2*3 ----- input\n",
    "## 6/3 ----- output\n",
    "## 6 ----- input\n",
    "## 6 ----- output\n",
    "num=(input(\"enter the integer\"))\n",
    "num=num.split()\n",
    "print(num)\n",
    "if num[1]=='+':\n",
    "    print(int(num[0])+int(num[2]))\n",
    "elif num[1]=='-':\n",
    "    print(int(num[0])-int(num[2]))\n",
    "elif num[1]=='*':\n",
    "    print(int(num[0])*int(num[2]))\n",
    "elif num[1]=='/':\n",
    "    print(int(num[0])//int(num[2]))\n",
    "elif num[1]=='%':\n",
    "    print(int(num[0])%int(num[2]))\n",
    "  \n"
   ]
  },
  {
   "cell_type": "code",
   "execution_count": 1,
   "metadata": {},
   "outputs": [
    {
     "name": "stdout",
     "output_type": "stream",
     "text": [
      "enter a number1\n",
      "1\n",
      "enter a number2\n",
      "2\n",
      "enter a number3\n",
      "3\n",
      "enter a number4\n",
      "4\n",
      "enter a number5\n",
      "5\n",
      "enter a number6\n",
      "6\n",
      "enter a number7\n",
      "7\n",
      "enter a number8\n",
      "8\n",
      "enter a number9\n",
      "9\n",
      "enter a number10\n",
      "10\n",
      "enter a number100\n",
      "100\n"
     ]
    }
   ],
   "source": [
    "a=0\n",
    "while(a!=42 and a<=99):\n",
    "    a=int(input(\"enter a number\"))\n",
    "    print(a)"
   ]
  },
  {
   "cell_type": "code",
   "execution_count": null,
   "metadata": {},
   "outputs": [],
   "source": [
    "\n",
    "l=180\n",
    "num=(input(\"enter the integer\"))\n",
    "num=num.split()\n",
    "print(num)\n",
    "if(l==int(num[0])==int(num[1])):\n",
    "    print(\"accepted\")\n",
    "elif(l<int(num[0]) and l<int(num[1])):\n",
    "    print(\"crop it\")\n",
    "elif(l<int(num[0]) or l<int(num[1])):\n",
    "    print(\"UPLOAD ANOTHER\")\n",
    "elif(l>int(num[0]) or l>int(num[1])):\n",
    "    print(\"UPLOAD ANOTHER\")"
   ]
  },
  {
   "cell_type": "code",
   "execution_count": 1,
   "metadata": {},
   "outputs": [
    {
     "name": "stdout",
     "output_type": "stream",
     "text": [
      "enter the width:180\n",
      "enter the height:180\n",
      "your photo is upto the mark\n"
     ]
    }
   ],
   "source": [
    "### profile picture\n",
    "\n",
    "l=180\n",
    "w=int(input(\"enter the width:\"))\n",
    "h=int(input(\"enter the height:\"))\n",
    "\n",
    "if(l==w==h):\n",
    "    print(\"your photo is upto the mark\")\n",
    "elif((w<l)or(h<l)):\n",
    "    print(\"upload another photo\")\n",
    "elif((w>l)or(h>l)):\n",
    "    print(\"have to crop the image\")\n",
    "    if((w>l)and(l==h)):\n",
    "        wi=w-l\n",
    "        print(\"you have to crop\",+wi,\"in the width\")\n",
    "    elif((l==w)and(h>l)):\n",
    "        hi=h-l\n",
    "        print(\"you have to crop\",+hi,\"in the height\")\n",
    "    elif((w>l)and(h>l)):\n",
    "        wi=w-l\n",
    "        print(\"you have to crop\",+wi,\"in the width\")\n",
    "        hi=h-l\n",
    "        print(\"you have to crop\",+hi,\"in the height\")"
   ]
  },
  {
   "cell_type": "code",
   "execution_count": 5,
   "metadata": {},
   "outputs": [
    {
     "name": "stdout",
     "output_type": "stream",
     "text": [
      "120\n"
     ]
    }
   ],
   "source": [
    "### create function to find the factorial of a number ###\n",
    "def fact(n):\n",
    "    if n==0:\n",
    "        return 1\n",
    "    else:\n",
    "        return n*(fact(n-1))\n",
    "print(fact(5))\n",
    "        "
   ]
  },
  {
   "cell_type": "code",
   "execution_count": 16,
   "metadata": {},
   "outputs": [],
   "source": [
    "### function to print all number divisible by 6 and not a factor of 100 in a given range(lb,ub)inclusive\n",
    "\n",
    "  \n",
    "   "
   ]
  },
  {
   "cell_type": "code",
   "execution_count": 11,
   "metadata": {},
   "outputs": [
    {
     "name": "stdout",
     "output_type": "stream",
     "text": [
      "True\n"
     ]
    }
   ],
   "source": [
    "### function to check if a given number is prime\n",
    "def prime(n):\n",
    "    if (n==1):\n",
    "        return False\n",
    "    elif (n==2):\n",
    "        return True\n",
    "    else:\n",
    "        for x in range(2,n):\n",
    "            if(n % x==0):\n",
    "                return False\n",
    "        return True             \n",
    "print(prime(2))"
   ]
  },
  {
   "cell_type": "code",
   "execution_count": 12,
   "metadata": {},
   "outputs": [],
   "source": [
    "### generate all perfect numbers in a given range\n",
    "\n"
   ]
  },
  {
   "cell_type": "code",
   "execution_count": 15,
   "metadata": {},
   "outputs": [
    {
     "name": "stdout",
     "output_type": "stream",
     "text": [
      "1\n"
     ]
    },
    {
     "data": {
      "text/plain": [
       "1"
      ]
     },
     "execution_count": 15,
     "metadata": {},
     "output_type": "execute_result"
    }
   ],
   "source": [
    "### generate list of factors\n",
    "def fact(n):\n",
    "    for i in range(1,n+1):\n",
    "        if n%i==0:\n",
    "            print(i)\n",
    "            return i\n",
    "fact(10)                        "
   ]
  },
  {
   "cell_type": "code",
   "execution_count": 24,
   "metadata": {},
   "outputs": [
    {
     "name": "stdout",
     "output_type": "stream",
     "text": [
      "enter a even digit:4\n",
      "cubes is\n",
      "1152\n"
     ]
    }
   ],
   "source": [
    "##average of cubes of even numbers\n",
    "a=int(input(\"enter a even digit:\"))\n",
    "fact=2\n",
    "for i in range(1,a+1):\n",
    "    fact=fact*i*i\n",
    "print(\"cubes is\")\n",
    "print(fact)"
   ]
  },
  {
   "cell_type": "code",
   "execution_count": 3,
   "metadata": {},
   "outputs": [
    {
     "name": "stdout",
     "output_type": "stream",
     "text": [
      "lakshmi\n",
      "raju\n"
     ]
    }
   ],
   "source": [
    "students=[[\"sai\",10,20,30],[\"lakshmi\",30,40,60],[\"raju\",30,40,60]]\n",
    "high=0\n",
    "for student in students:\n",
    "    name=student[0]\n",
    "    marks=student[1]+student[2]+student[3]\n",
    "    if high<marks:\n",
    "        high=marks\n",
    "        \n",
    "for student in students:\n",
    "    name=student[0]\n",
    "    marks=student[1]+student[2]+student[3]\n",
    "    if high==marks:\n",
    "        print(name)        \n",
    "    \n",
    "\n"
   ]
  },
  {
   "cell_type": "code",
   "execution_count": 11,
   "metadata": {},
   "outputs": [
    {
     "name": "stdout",
     "output_type": "stream",
     "text": [
      "1\n",
      "3\n",
      "2\n"
     ]
    }
   ],
   "source": [
    "students=[[1,30,40],[3,40,100],[2,50,10]]\n",
    "for student in students:\n",
    "    rollnumber=student[0]\n",
    "    sub1=student[1]+student[1]+student[1]\n",
    "    sub2=student[2]+student[2]+student[2]\n",
    "    if sub2\n"
   ]
  },
  {
   "cell_type": "code",
   "execution_count": 4,
   "metadata": {},
   "outputs": [
    {
     "data": {
      "text/plain": [
       "[[3, 40, 100], [2, 50, 10], [1, 30, 40]]"
      ]
     },
     "execution_count": 4,
     "metadata": {},
     "output_type": "execute_result"
    }
   ],
   "source": [
    "students=[[1,30,40],[3,40,100],[2,50,10]]\n",
    "students.sort(reverse=True)\n",
    "students"
   ]
  },
  {
   "cell_type": "code",
   "execution_count": 16,
   "metadata": {},
   "outputs": [],
   "source": [
    "### find the sum of digits\n",
    "data=\"saram 123 lakshmi\"\n",
    "def sumOfDigits(data):\n",
    "    sum=0\n",
    "    for char in data:\n",
    "        if char.isdigit():\n",
    "            sum+=int(char)\n",
    "    return sum        \n"
   ]
  },
  {
   "cell_type": "code",
   "execution_count": 17,
   "metadata": {},
   "outputs": [
    {
     "data": {
      "text/plain": [
       "6"
      ]
     },
     "execution_count": 17,
     "metadata": {},
     "output_type": "execute_result"
    }
   ],
   "source": [
    "sumOfDigits(data)"
   ]
  },
  {
   "cell_type": "code",
   "execution_count": 21,
   "metadata": {},
   "outputs": [
    {
     "name": "stdout",
     "output_type": "stream",
     "text": [
      "6\n"
     ]
    }
   ],
   "source": [
    "### lucky number\n",
    "data=\"111111111111111234\"\n",
    "while True:\n",
    "    result=str(sumOfDigits(data))\n",
    "    if len(result)>1:\n",
    "        data=result\n",
    "    else:\n",
    "            break\n",
    "print(result)            \n"
   ]
  },
  {
   "cell_type": "code",
   "execution_count": 25,
   "metadata": {},
   "outputs": [
    {
     "name": "stdout",
     "output_type": "stream",
     "text": [
      "{'alpha': 6, 'digits': 5}\n"
     ]
    }
   ],
   "source": [
    "data=\"sairam12345\"\n",
    "result={}\n",
    "for character in data:\n",
    "    if character.isalpha():\n",
    "        result['alpha']=result.get('alpha',0)+1\n",
    "        \n",
    "    if character.isdigit():\n",
    "        result['digits']=result.get('digits',0)+1\n",
    "        \n",
    "print(result)        \n"
   ]
  },
  {
   "cell_type": "code",
   "execution_count": 38,
   "metadata": {},
   "outputs": [
    {
     "name": "stdout",
     "output_type": "stream",
     "text": [
      "Count of all charactersis :\n",
      " {'p': 2, 'y': 1, 't': 1, 'h': 1, 'o': 2, 'n': 1, ' ': 1, 'r': 2, 'g': 1, 'a': 1, 'm': 1}\n"
     ]
    }
   ],
   "source": [
    "## find th frequency of characters\n",
    "name=\"python program\"\n",
    "frequency={}\n",
    "   \n",
    "for i in name: \n",
    "    if i in frequency: \n",
    "        frequency[i] += 1\n",
    "    else: \n",
    "        frequency[i] = 1\n",
    "  \n",
    "print(\"Count of all charactersis :\\n \" +str(frequency)) "
   ]
  },
  {
   "cell_type": "code",
   "execution_count": null,
   "metadata": {},
   "outputs": [],
   "source": []
  },
  {
   "cell_type": "code",
   "execution_count": 37,
   "metadata": {},
   "outputs": [
    {
     "name": "stdout",
     "output_type": "stream",
     "text": [
      "Count of all charactersis :\n",
      " {'www.google.com': 2, 'www.gmail.com': 1, 'www.yahoo.com': 1}\n"
     ]
    }
   ],
   "source": [
    "## find the frequency of urls\n",
    "urls=['www.google.com','www.gmail.com','www.yahoo.com','www.google.com']\n",
    "frequency={}\n",
    "   \n",
    "for i in urls: \n",
    "    if i in frequency: \n",
    "        frequency[i] += 1\n",
    "    else: \n",
    "        frequency[i] = 1\n",
    "  \n",
    "print(\"Count of all charactersis :\\n \" +  str(frequency)) "
   ]
  },
  {
   "cell_type": "code",
   "execution_count": null,
   "metadata": {},
   "outputs": [],
   "source": []
  }
 ],
 "metadata": {
  "kernelspec": {
   "display_name": "Python 3",
   "language": "python",
   "name": "python3"
  },
  "language_info": {
   "codemirror_mode": {
    "name": "ipython",
    "version": 3
   },
   "file_extension": ".py",
   "mimetype": "text/x-python",
   "name": "python",
   "nbconvert_exporter": "python",
   "pygments_lexer": "ipython3",
   "version": "3.7.3"
  }
 },
 "nbformat": 4,
 "nbformat_minor": 2
}
