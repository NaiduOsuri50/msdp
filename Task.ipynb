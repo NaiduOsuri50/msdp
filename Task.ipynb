{
 "cells": [
  {
   "cell_type": "code",
   "execution_count": 1,
   "metadata": {},
   "outputs": [
    {
     "ename": "NameError",
     "evalue": "name 'num' is not defined",
     "output_type": "error",
     "traceback": [
      "\u001b[1;31m---------------------------------------------------------------------------\u001b[0m",
      "\u001b[1;31mNameError\u001b[0m                                 Traceback (most recent call last)",
      "\u001b[1;32m<ipython-input-1-6317e441d3b5>\u001b[0m in \u001b[0;36m<module>\u001b[1;34m\u001b[0m\n\u001b[0;32m      1\u001b[0m \u001b[1;31m### write a prigram to find the factorail of the given number\u001b[0m\u001b[1;33m\u001b[0m\u001b[1;33m\u001b[0m\u001b[1;33m\u001b[0m\u001b[0m\n\u001b[0;32m      2\u001b[0m \u001b[1;33m\u001b[0m\u001b[0m\n\u001b[1;32m----> 3\u001b[1;33m \u001b[1;32mif\u001b[0m \u001b[0mnum\u001b[0m \u001b[1;33m<\u001b[0m \u001b[1;36m0\u001b[0m\u001b[1;33m:\u001b[0m\u001b[1;33m\u001b[0m\u001b[1;33m\u001b[0m\u001b[0m\n\u001b[0m\u001b[0;32m      4\u001b[0m    \u001b[0mprint\u001b[0m\u001b[1;33m(\u001b[0m\u001b[1;34m\"Sorry, factorial does not exist for negative numbers\"\u001b[0m\u001b[1;33m)\u001b[0m\u001b[1;33m\u001b[0m\u001b[1;33m\u001b[0m\u001b[0m\n\u001b[0;32m      5\u001b[0m \u001b[1;32melif\u001b[0m \u001b[0mnum\u001b[0m \u001b[1;33m==\u001b[0m \u001b[1;36m0\u001b[0m\u001b[1;33m:\u001b[0m\u001b[1;33m\u001b[0m\u001b[1;33m\u001b[0m\u001b[0m\n",
      "\u001b[1;31mNameError\u001b[0m: name 'num' is not defined"
     ]
    }
   ],
   "source": [
    "### write a program to find the factorail of the given number\n",
    "\n",
    "if num < 0:\n",
    "   print(\"Sorry, factorial does not exist for negative numbers\")\n",
    "elif num == 0:\n",
    "   print(\"The factorial of 0 is 1\")\n",
    "else:\n",
    "   for i in range(1,num + 1):\n",
    "       factorial = factorial*i\n",
    "   print(\"The factorial of\",num,\"is\",factorial)"
   ]
  },
  {
   "cell_type": "code",
   "execution_count": 3,
   "metadata": {},
   "outputs": [
    {
     "name": "stdout",
     "output_type": "stream",
     "text": [
      "Please Enter any Number: 550\n",
      "\n",
      " Number of Digits in a Given Number = 3\n"
     ]
    }
   ],
   "source": [
    "### check the number of digitd in a given number.\n",
    "Number = int(input(\"Please Enter any Number: \"))\n",
    "Count = 0\n",
    "while(Number > 0):\n",
    "    Number = Number // 10\n",
    "    Count = Count + 1\n",
    "\n",
    "print(\"\\n Number of Digits in a Given Number = %d\" %Count)"
   ]
  },
  {
   "cell_type": "code",
   "execution_count": 4,
   "metadata": {},
   "outputs": [
    {
     "name": "stdout",
     "output_type": "stream",
     "text": [
      "20\n",
      "is factor of 1000\n"
     ]
    }
   ],
   "source": [
    "### check if the given number is a factor of 1000\n",
    "num=int(input())\n",
    "if(1000%num==0):\n",
    "    print(\"is factor of 1000\")\n",
    "else:\n",
    "    print(\"is factor of 1000\")    "
   ]
  },
  {
   "cell_type": "code",
   "execution_count": null,
   "metadata": {},
   "outputs": [],
   "source": [
    "#### check the two strings using same characters or not\n",
    "a=input(\"enter a string\")"
   ]
  },
  {
   "cell_type": "code",
   "execution_count": 5,
   "metadata": {},
   "outputs": [
    {
     "name": "stdout",
     "output_type": "stream",
     "text": [
      "Enter any number : 12\n",
      "The given number is NOT a palindrome\n"
     ]
    }
   ],
   "source": [
    "### palindrome or not\n",
    "num = input('Enter any number : ')\n",
    "try:\n",
    "    val = int(num)\n",
    "    if num == str(num)[::-1]:\n",
    "        print('The given number is PALINDROME')\n",
    "    else:\n",
    "        print('The given number is NOT a palindrome')\n",
    "except ValueError:\n",
    "    print(\"That's not a valid number, Try Again !\")"
   ]
  },
  {
   "cell_type": "code",
   "execution_count": 6,
   "metadata": {},
   "outputs": [
    {
     "name": "stdout",
     "output_type": "stream",
     "text": [
      "Enter the number: 25\n",
      "2\n",
      "3\n",
      "5\n",
      "7\n",
      "11\n",
      "13\n",
      "17\n",
      "19\n",
      "23\n"
     ]
    }
   ],
   "source": [
    "### prime numbers up to N\n",
    "S_value = 1\n",
    "n  = int(input(\"Enter the number: \"))\n",
    "for num in range(S_value, n + 1):   \n",
    "    if num > 1:\n",
    "        for i in range(2, int(num/2)+1):\n",
    "            if (num % i) == 0:\n",
    "                break\n",
    "        else:\n",
    "            print(num)\n"
   ]
  },
  {
   "cell_type": "code",
   "execution_count": 13,
   "metadata": {},
   "outputs": [
    {
     "name": "stdout",
     "output_type": "stream",
     "text": [
      "1401601499\n",
      "is divisible\n"
     ]
    }
   ],
   "source": [
    "## The ISBN value must be 10 digit code.\n",
    "##The ISBN is valid if :1*digit1+2*digit2+3*digit3+4*digit4+5*digit5+6*digit6+7*digit7+8*digit8+9*digit9+10*digit10 \n",
    "##is divisible by 11\n",
    "num=int(input())\n",
    "i=10\n",
    "sum=0\n",
    "while(num!=0):\n",
    "    r=num%10\n",
    "    sum=sum+(i*r)\n",
    "    num=num//10\n",
    "    i=i-1\n",
    "if(sum%11==0):\n",
    "    print(\"is divisible\")\n",
    "else:\n",
    "    print(\"not divisible\")\n"
   ]
  },
  {
   "cell_type": "code",
   "execution_count": 10,
   "metadata": {},
   "outputs": [
    {
     "name": "stdout",
     "output_type": "stream",
     "text": [
      "enter a string:naidu osuri\n"
     ]
    },
    {
     "data": {
      "text/plain": [
       "'NAIDU OSURI'"
      ]
     },
     "execution_count": 10,
     "metadata": {},
     "output_type": "execute_result"
    }
   ],
   "source": [
    "### need to change the case of each alphabet in string\n",
    "\n",
    "string=input(\"enter a string:\")\n",
    "c=string.swapcase()\n",
    "c"
   ]
  },
  {
   "cell_type": "code",
   "execution_count": 12,
   "metadata": {},
   "outputs": [
    {
     "name": "stdout",
     "output_type": "stream",
     "text": [
      "enter a string:ok\n",
      "enter a string:ok\n",
      "its a identical\n"
     ]
    }
   ],
   "source": [
    "##### identical the strings or not?\n",
    "\n",
    "a=input(\"enter a string:\")\n",
    "b=input(\"enter a string:\")\n",
    "if a==b:\n",
    "    print(\"its a identical\")\n",
    "else:\n",
    "    print(\"its a identical\")\n"
   ]
  },
  {
   "cell_type": "code",
   "execution_count": 2,
   "metadata": {},
   "outputs": [
    {
     "data": {
      "text/plain": [
       "'opopopopop'"
      ]
     },
     "execution_count": 2,
     "metadata": {},
     "output_type": "execute_result"
    }
   ],
   "source": [
    "## change the strings to lower case\n",
    "a=\"OPOPOPOPOP\"\n",
    "a=a.lower()\n",
    "a"
   ]
  },
  {
   "cell_type": "code",
   "execution_count": 4,
   "metadata": {},
   "outputs": [
    {
     "data": {
      "text/plain": [
       "10"
      ]
     },
     "execution_count": 4,
     "metadata": {},
     "output_type": "execute_result"
    }
   ],
   "source": [
    "### length of the string\n",
    "a=\"OPOPOPOPOP\"\n",
    "len(a)\n"
   ]
  },
  {
   "cell_type": "code",
   "execution_count": 6,
   "metadata": {},
   "outputs": [
    {
     "data": {
      "text/plain": [
       "'gnirts eht fo htgnel'"
      ]
     },
     "execution_count": 6,
     "metadata": {},
     "output_type": "execute_result"
    }
   ],
   "source": [
    "### print string in reverse order\n",
    "a=\"length of the string\"\n",
    "a[::-1]\n"
   ]
  },
  {
   "cell_type": "code",
   "execution_count": 12,
   "metadata": {},
   "outputs": [
    {
     "data": {
      "text/plain": [
       "9"
      ]
     },
     "execution_count": 12,
     "metadata": {},
     "output_type": "execute_result"
    }
   ],
   "source": [
    "#### find how many times s is repeated in a given string\n",
    "a=\"sheiksheiksikhjhssssmcebweuss\"\n",
    "a.count('s')\n"
   ]
  },
  {
   "cell_type": "code",
   "execution_count": 13,
   "metadata": {},
   "outputs": [
    {
     "data": {
      "text/plain": [
       "2"
      ]
     },
     "execution_count": 13,
     "metadata": {},
     "output_type": "execute_result"
    }
   ],
   "source": [
    "### how many types python repeated\n",
    "a=\"python programming by python platform\"\n",
    "a.count('python')\n"
   ]
  },
  {
   "cell_type": "code",
   "execution_count": 14,
   "metadata": {},
   "outputs": [],
   "source": [
    "## E-maze in x and y axises need to take input like LLRDDR(strings)\n"
   ]
  },
  {
   "cell_type": "code",
   "execution_count": null,
   "metadata": {},
   "outputs": [],
   "source": [
    "## 2+3 ----- input\n",
    "## 5 ----- output\n",
    "## 3-2 ----- input\n",
    "## 1 ----- output\n",
    "## 2*3 ----- input\n",
    "## 6/3 ----- output\n",
    "## 6 ----- input\n",
    "## 6 ----- output\n",
    "num=(input(\"enter the integer\"))\n",
    "num=num.split()\n",
    "print(num)\n",
    "if num[1]=='+':\n",
    "    print(int(num[0])+int(num[2]))\n",
    "elif num[1]=='-':\n",
    "    print(int(num[0])-int(num[2]))\n",
    "elif num[1]=='*':\n",
    "    print(int(num[0])*int(num[2]))\n",
    "elif num[1]=='/':\n",
    "    print(int(num[0])//int(num[2]))\n",
    "elif num[1]=='%':\n",
    "    print(int(num[0])%int(num[2]))\n",
    "  \n"
   ]
  },
  {
   "cell_type": "code",
   "execution_count": 1,
   "metadata": {},
   "outputs": [
    {
     "name": "stdout",
     "output_type": "stream",
     "text": [
      "enter a number1\n",
      "1\n",
      "enter a number2\n",
      "2\n",
      "enter a number3\n",
      "3\n",
      "enter a number4\n",
      "4\n",
      "enter a number5\n",
      "5\n",
      "enter a number6\n",
      "6\n",
      "enter a number7\n",
      "7\n",
      "enter a number8\n",
      "8\n",
      "enter a number9\n",
      "9\n",
      "enter a number10\n",
      "10\n",
      "enter a number100\n",
      "100\n"
     ]
    }
   ],
   "source": [
    "a=0\n",
    "while(a!=42 and a<=99):\n",
    "    a=int(input(\"enter a number\"))\n",
    "    print(a)"
   ]
  },
  {
   "cell_type": "code",
   "execution_count": null,
   "metadata": {},
   "outputs": [],
   "source": [
    "\n",
    "l=180\n",
    "num=(input(\"enter the integer\"))\n",
    "num=num.split()\n",
    "print(num)\n",
    "if(l==int(num[0])==int(num[1])):\n",
    "    print(\"accepted\")\n",
    "elif(l<int(num[0]) and l<int(num[1])):\n",
    "    print(\"crop it\")\n",
    "elif(l<int(num[0]) or l<int(num[1])):\n",
    "    print(\"UPLOAD ANOTHER\")\n",
    "elif(l>int(num[0]) or l>int(num[1])):\n",
    "    print(\"UPLOAD ANOTHER\")"
   ]
  },
  {
   "cell_type": "code",
   "execution_count": 1,
   "metadata": {},
   "outputs": [
    {
     "name": "stdout",
     "output_type": "stream",
     "text": [
      "enter the width:180\n",
      "enter the height:180\n",
      "your photo is upto the mark\n"
     ]
    }
   ],
   "source": [
    "### profile picture\n",
    "\n",
    "l=180\n",
    "w=int(input(\"enter the width:\"))\n",
    "h=int(input(\"enter the height:\"))\n",
    "\n",
    "if(l==w==h):\n",
    "    print(\"your photo is upto the mark\")\n",
    "elif((w<l)or(h<l)):\n",
    "    print(\"upload another photo\")\n",
    "elif((w>l)or(h>l)):\n",
    "    print(\"have to crop the image\")\n",
    "    if((w>l)and(l==h)):\n",
    "        wi=w-l\n",
    "        print(\"you have to crop\",+wi,\"in the width\")\n",
    "    elif((l==w)and(h>l)):\n",
    "        hi=h-l\n",
    "        print(\"you have to crop\",+hi,\"in the height\")\n",
    "    elif((w>l)and(h>l)):\n",
    "        wi=w-l\n",
    "        print(\"you have to crop\",+wi,\"in the width\")\n",
    "        hi=h-l\n",
    "        print(\"you have to crop\",+hi,\"in the height\")"
   ]
  },
  {
   "cell_type": "code",
   "execution_count": null,
   "metadata": {},
   "outputs": [],
   "source": []
  }
 ],
 "metadata": {
  "kernelspec": {
   "display_name": "Python 3",
   "language": "python",
   "name": "python3"
  },
  "language_info": {
   "codemirror_mode": {
    "name": "ipython",
    "version": 3
   },
   "file_extension": ".py",
   "mimetype": "text/x-python",
   "name": "python",
   "nbconvert_exporter": "python",
   "pygments_lexer": "ipython3",
   "version": "3.7.3"
  }
 },
 "nbformat": 4,
 "nbformat_minor": 2
}
