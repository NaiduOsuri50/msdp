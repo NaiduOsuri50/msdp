{
 "cells": [
  {
   "cell_type": "markdown",
   "metadata": {},
   "source": [
    "# file\n",
    "----------------------Documents to store imformation or data\n",
    "\n",
    "### read and write"
   ]
  },
  {
   "cell_type": "markdown",
   "metadata": {},
   "source": [
    "### 3. steps to work with files in python\n",
    "     1.open the file \n",
    "     2.do operations\n",
    "     3.close the file"
   ]
  },
  {
   "cell_type": "markdown",
   "metadata": {},
   "source": [
    "### reading the file"
   ]
  },
  {
   "cell_type": "code",
   "execution_count": 12,
   "metadata": {},
   "outputs": [
    {
     "name": "stdout",
     "output_type": "stream",
     "text": [
      "nawab ku sala\n",
      "book 1\n",
      "book 2\n",
      "book 3\n",
      "book 4\n",
      "book 5\n",
      "book 6\n",
      "book 7\n",
      "\n"
     ]
    }
   ],
   "source": [
    "fh = open(\"book.txt\",\"r\")\n",
    "\n",
    "data=fh.read()\n",
    "\n",
    "print(data)\n",
    "\n",
    "fh.close()"
   ]
  },
  {
   "cell_type": "markdown",
   "metadata": {},
   "source": [
    "### write into file"
   ]
  },
  {
   "cell_type": "code",
   "execution_count": 13,
   "metadata": {},
   "outputs": [],
   "source": [
    "fh=open(\"notes.txt\",\"w\")\n",
    "\n",
    "fh.write(\"satya darling\")\n",
    "\n",
    "fh.close()"
   ]
  },
  {
   "cell_type": "markdown",
   "metadata": {},
   "source": [
    "##  APPEND MODE"
   ]
  },
  {
   "cell_type": "code",
   "execution_count": 14,
   "metadata": {},
   "outputs": [
    {
     "data": {
      "text/plain": [
       "<function TextIOWrapper.close()>"
      ]
     },
     "execution_count": 14,
     "metadata": {},
     "output_type": "execute_result"
    }
   ],
   "source": [
    "fh=open(\"notes.txt\",\"a\")\n",
    "fh.write(\"new line\")\n",
    "fh.close"
   ]
  },
  {
   "cell_type": "code",
   "execution_count": 15,
   "metadata": {},
   "outputs": [
    {
     "name": "stdout",
     "output_type": "stream",
     "text": [
      "nawab ku sala\n",
      "\n",
      "book 1\n",
      "\n",
      "book 2\n",
      "\n",
      "book 3\n",
      "\n",
      "book 4\n",
      "\n",
      "book 5\n",
      "\n",
      "book 6\n",
      "\n",
      "book 7\n",
      "\n"
     ]
    },
    {
     "data": {
      "text/plain": [
       "<function TextIOWrapper.close()>"
      ]
     },
     "execution_count": 15,
     "metadata": {},
     "output_type": "execute_result"
    }
   ],
   "source": [
    "fh=open(\"book.txt\",\"r\")\n",
    "\n",
    "for Line in fh:\n",
    "    print(Line)\n",
    "fh.close    "
   ]
  },
  {
   "cell_type": "markdown",
   "metadata": {},
   "source": [
    "## update mode"
   ]
  },
  {
   "cell_type": "code",
   "execution_count": 16,
   "metadata": {},
   "outputs": [],
   "source": [
    "fh=open(\"notes.txt\",\"r+\")\n",
    "\n",
    "fh.write(\"satya darling\")\n",
    "\n",
    "fh.close()"
   ]
  },
  {
   "cell_type": "code",
   "execution_count": 17,
   "metadata": {},
   "outputs": [
    {
     "ename": "UnsupportedOperation",
     "evalue": "not writable",
     "output_type": "error",
     "traceback": [
      "\u001b[1;31m---------------------------------------------------------------------------\u001b[0m",
      "\u001b[1;31mUnsupportedOperation\u001b[0m                      Traceback (most recent call last)",
      "\u001b[1;32m<ipython-input-17-1455f767d1fd>\u001b[0m in \u001b[0;36m<module>\u001b[1;34m\u001b[0m\n\u001b[0;32m      1\u001b[0m \u001b[0mfh\u001b[0m\u001b[1;33m=\u001b[0m\u001b[0mopen\u001b[0m\u001b[1;33m(\u001b[0m\u001b[1;34m\"notes.txt\"\u001b[0m\u001b[1;33m,\u001b[0m\u001b[1;34m\"r\"\u001b[0m\u001b[1;33m)\u001b[0m\u001b[1;33m\u001b[0m\u001b[1;33m\u001b[0m\u001b[0m\n\u001b[0;32m      2\u001b[0m \u001b[1;33m\u001b[0m\u001b[0m\n\u001b[1;32m----> 3\u001b[1;33m \u001b[0mfh\u001b[0m\u001b[1;33m.\u001b[0m\u001b[0mwrite\u001b[0m\u001b[1;33m(\u001b[0m\u001b[1;34m\"satya darling\"\u001b[0m\u001b[1;33m)\u001b[0m\u001b[1;33m\u001b[0m\u001b[1;33m\u001b[0m\u001b[0m\n\u001b[0m\u001b[0;32m      4\u001b[0m \u001b[1;33m\u001b[0m\u001b[0m\n\u001b[0;32m      5\u001b[0m \u001b[0mfh\u001b[0m\u001b[1;33m.\u001b[0m\u001b[0mclose\u001b[0m\u001b[1;33m(\u001b[0m\u001b[1;33m)\u001b[0m\u001b[1;33m\u001b[0m\u001b[1;33m\u001b[0m\u001b[0m\n",
      "\u001b[1;31mUnsupportedOperation\u001b[0m: not writable"
     ]
    }
   ],
   "source": [
    "fh=open(\"notes.txt\",\"r\")\n",
    "\n",
    "fh.write(\"satya darling\")\n",
    "\n",
    "fh.close()"
   ]
  },
  {
   "cell_type": "code",
   "execution_count": 18,
   "metadata": {},
   "outputs": [
    {
     "name": "stdout",
     "output_type": "stream",
     "text": [
      "0\n",
      "13\n",
      "\n"
     ]
    }
   ],
   "source": [
    "\n",
    "fh=open(\"notes.txt\",\"r\")\n",
    "print(fh.tell())\n",
    "\n",
    "data=fh.read()\n",
    "\n",
    "print(fh.tell())\n",
    "data=fh.read()\n",
    "\n",
    "print(data)\n",
    "fh.close()"
   ]
  },
  {
   "cell_type": "code",
   "execution_count": 20,
   "metadata": {},
   "outputs": [
    {
     "name": "stdout",
     "output_type": "stream",
     "text": [
      "13\n",
      "5\n",
      "5\n",
      " darling\n"
     ]
    }
   ],
   "source": [
    "fh=open(\"notes.txt\",\"r\")\n",
    "data=fh.read()\n",
    "print(fh.tell())\n",
    "fh.seek(5)\n",
    "print(fh.tell())\n",
    "print(fh.tell())\n",
    "data=fh.read()\n",
    "print(data)\n",
    "fh.close()"
   ]
  },
  {
   "cell_type": "code",
   "execution_count": 23,
   "metadata": {},
   "outputs": [
    {
     "name": "stdout",
     "output_type": "stream",
     "text": [
      "rvvv\n",
      "\n"
     ]
    }
   ],
   "source": [
    "##line()\n",
    "fh=open(\"notes.txt\",\"r\")\n",
    "data=fh.readline()\n",
    "data=fh.readline()\n",
    "print(data)\n",
    "fh.close()"
   ]
  },
  {
   "cell_type": "code",
   "execution_count": 25,
   "metadata": {},
   "outputs": [
    {
     "name": "stdout",
     "output_type": "stream",
     "text": [
      "[]\n"
     ]
    }
   ],
   "source": [
    "##lines()\n",
    "fh=open(\"notes.txt\",\"r\")\n",
    "data=fh.readlines()\n",
    "data=fh.readlines()\n",
    "print(data)\n",
    "fh.close()"
   ]
  },
  {
   "cell_type": "code",
   "execution_count": 1,
   "metadata": {},
   "outputs": [],
   "source": [
    "fh=open('book.txt','r')\n",
    "fh1=open('bookcopy.txt','w')\n",
    "data=fh.read()\n",
    "fh1.write(data)\n",
    "fh1=open('bookcopy.txt','a')\n",
    "fh1.write('total')\n",
    "fh.close()\n",
    "fh1.close()\n",
    "\n"
   ]
  },
  {
   "cell_type": "code",
   "execution_count": null,
   "metadata": {},
   "outputs": [],
   "source": []
  }
 ],
 "metadata": {
  "kernelspec": {
   "display_name": "Python 3",
   "language": "python",
   "name": "python3"
  },
  "language_info": {
   "codemirror_mode": {
    "name": "ipython",
    "version": 3
   },
   "file_extension": ".py",
   "mimetype": "text/x-python",
   "name": "python",
   "nbconvert_exporter": "python",
   "pygments_lexer": "ipython3",
   "version": "3.7.3"
  }
 },
 "nbformat": 4,
 "nbformat_minor": 2
}
